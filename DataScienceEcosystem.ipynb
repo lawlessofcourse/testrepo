{
 "cells": [
  {
   "cell_type": "markdown",
   "id": "663872c1-df1d-4ecd-b4bf-d96f5cf77d84",
   "metadata": {},
   "source": [
    "# Data Science Tools and Ecosystem"
   ]
  },
  {
   "cell_type": "markdown",
   "id": "4ec51d77-8efa-4cb7-b344-615591027ca1",
   "metadata": {},
   "source": [
    "In this notebook, Data science Tools and Ecosystems are summarized."
   ]
  },
  {
   "cell_type": "markdown",
   "id": "d9450070-292f-41c7-a6af-9554ed3159b3",
   "metadata": {},
   "source": [
    "**Objectives:**\n",
    "* List popular languages for data science\n",
    "* List common libraries used by data scientists\n",
    "* List commonly used development environments for data scientists\n",
    "* Use code cell to multiply and add numbers\n",
    "* Use code cell to convert minutes to hours\n",
    "* Get use to using markdown and code in notebook"
   ]
  },
  {
   "cell_type": "markdown",
   "id": "686d0402-dcd9-4c64-999c-a25017098e23",
   "metadata": {},
   "source": [
    "Some of the popular languages that Data Scientist use are:\n",
    "1) Python\n",
    "2) R\n",
    "3) SQL\n",
    "4) Java\n",
    "5) Julia \n",
    "6) Scala"
   ]
  },
  {
   "cell_type": "markdown",
   "id": "75ef23ee-6dd1-4dc4-bfc9-d77e10cbcc8c",
   "metadata": {},
   "source": [
    "Some of the commonly used libraries used by Data Scientists include:\n",
    "1) NumPy\n",
    "2) Pandas\n",
    "3) Matplotlib\n",
    "4) TensorFlow\n",
    "5) SciPy\n",
    "6) SciKit-Learn\n",
    "7) PyTorch"
   ]
  },
  {
   "cell_type": "markdown",
   "id": "17509cc1-66d3-4782-bf3d-d42eb354c6c7",
   "metadata": {},
   "source": [
    "| Data Science Tools|\n",
    "| ---------|\n",
    "|RStudio |\n",
    "| Apache Spark|\n",
    "| TensorFlow |\n",
    "| GoogleColab|"
   ]
  },
  {
   "cell_type": "markdown",
   "id": "8d411cc9-1408-4de1-804d-8c0c6e072502",
   "metadata": {},
   "source": [
    "### Below are a few examples of evaluating arithmetic expressions in Python"
   ]
  },
  {
   "cell_type": "code",
   "execution_count": 5,
   "id": "c162116e-d9d1-4346-95b7-ad6510200b9a",
   "metadata": {
    "tags": []
   },
   "outputs": [
    {
     "data": {
      "text/plain": [
       "17"
      ]
     },
     "execution_count": 5,
     "metadata": {},
     "output_type": "execute_result"
    }
   ],
   "source": [
    "# This is a simple arithmetic expression to multiply then add integers\n",
    "(3*4)+5"
   ]
  },
  {
   "cell_type": "code",
   "execution_count": 7,
   "id": "5e08a8cc-20cd-464c-962d-90b859877827",
   "metadata": {
    "tags": []
   },
   "outputs": [
    {
     "data": {
      "text/plain": [
       "3.3333333333333335"
      ]
     },
     "execution_count": 7,
     "metadata": {},
     "output_type": "execute_result"
    }
   ],
   "source": [
    "# This will convert 200 minutes to hours by dividing by 60\n",
    "200/60"
   ]
  },
  {
   "cell_type": "markdown",
   "id": "ca9386c1-53ba-4d84-a0bd-8cffb8ef301c",
   "metadata": {},
   "source": [
    "## Author \n",
    "Jack Lawless"
   ]
  },
  {
   "cell_type": "code",
   "execution_count": null,
   "id": "1969aecc-26fa-4545-9d38-c47ee5806d28",
   "metadata": {},
   "outputs": [],
   "source": []
  }
 ],
 "metadata": {
  "kernelspec": {
   "display_name": "Python",
   "language": "python",
   "name": "conda-env-python-py"
  },
  "language_info": {
   "codemirror_mode": {
    "name": "ipython",
    "version": 3
   },
   "file_extension": ".py",
   "mimetype": "text/x-python",
   "name": "python",
   "nbconvert_exporter": "python",
   "pygments_lexer": "ipython3",
   "version": "3.7.12"
  }
 },
 "nbformat": 4,
 "nbformat_minor": 5
}
